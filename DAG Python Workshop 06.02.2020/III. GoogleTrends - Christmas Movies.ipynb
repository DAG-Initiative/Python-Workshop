{
 "cells": [
  {
   "cell_type": "markdown",
   "metadata": {},
   "source": [
    "# German Christmas Movies\n",
    "### Are there movies that people only watch on christmas? And if so, how can we identify them?\n",
    "\n",
    "The idea is that we use Google Trends to identify \"spikes\" in searches for a particular movie during a set timeperiod. If we can find titles that stand out on christmas in the search trends, that would at least suggest people have increast intrest for that particular title on that day.\n",
    "\n",
    "<b>Pytrends</b> is a libary that allows relativly easy access to the google trends api. https://github.com/GeneralMills/pytrends\n",
    "\n",
    "install:\n",
    "\n",
    "<b>pip install pytrends</b>"
   ]
  },
  {
   "cell_type": "code",
   "execution_count": null,
   "metadata": {},
   "outputs": [],
   "source": [
    "%matplotlib inline\n",
    "import pandas as pd\n",
    "import datetime\n",
    "from pytrends.request import TrendReq"
   ]
  },
  {
   "cell_type": "code",
   "execution_count": null,
   "metadata": {},
   "outputs": [],
   "source": [
    "# hl specifies host language for accessing Google Trends\n",
    "pytrends = TrendReq(hl=\"de\", tz=-60)"
   ]
  },
  {
   "cell_type": "code",
   "execution_count": null,
   "metadata": {},
   "outputs": [],
   "source": [
    "kw_list = [\"FDP\"]\n",
    "pytrends.build_payload(kw_list, cat=0, timeframe=\"today 5-y\", geo=\"DE\", gprop=\"\")"
   ]
  },
  {
   "cell_type": "code",
   "execution_count": null,
   "metadata": {},
   "outputs": [],
   "source": [
    "df =pytrends.interest_over_time().drop(columns = ['isPartial'])\n",
    "df.info()"
   ]
  },
  {
   "cell_type": "code",
   "execution_count": null,
   "metadata": {},
   "outputs": [],
   "source": [
    "df.plot()"
   ]
  },
  {
   "cell_type": "markdown",
   "metadata": {},
   "source": [
    "### Applying this to our question, we only need the information for a set timeframe\n",
    "\n",
    "Update the kw_list for a potential christmas movie and set the timeframe for November - December. Pytrends requires a timeframe in the format \"yyyy-mm-dd yyyy-mm-dd\"."
   ]
  },
  {
   "cell_type": "code",
   "execution_count": null,
   "metadata": {},
   "outputs": [],
   "source": [
    "kw_list = [\"Stirb Langsam\"]\n",
    "startdate = \"2018-11-01\"\n",
    "enddate = \"2018-12-31\"\n",
    "tf = startdate + \" \" + enddate\n",
    "tf"
   ]
  },
  {
   "cell_type": "code",
   "execution_count": null,
   "metadata": {},
   "outputs": [],
   "source": [
    "pytrends.build_payload(kw_list, cat=0, timeframe=tf, geo=\"\", gprop=\"\")\n",
    "df =pytrends.interest_over_time().drop(columns = ['isPartial'])\n",
    "df.info()"
   ]
  },
  {
   "cell_type": "code",
   "execution_count": null,
   "metadata": {},
   "outputs": [],
   "source": [
    "df.plot()"
   ]
  },
  {
   "cell_type": "markdown",
   "metadata": {},
   "source": [
    "### Now we want the information for the last 5 years in that timeframe.\n",
    "\n",
    "At this point it should be mentioned that the google api is not the benevolent type, if you send to many requests you will eventually get blocked. My best guess is that this point is reached after 1600 requests per day. After that I only got one request per minute.\n",
    "\n",
    "So we should not request information we dont need."
   ]
  },
  {
   "cell_type": "code",
   "execution_count": null,
   "metadata": {},
   "outputs": [],
   "source": [
    "# Returns a DataFrame for a timeframe for the last X years starting 2019\n",
    "def request_for_timeframe(years,s_month,s_day,e_month,e_day,title):\n",
    "    startyear = 2019\n",
    "    result = pd.Series()\n",
    "    kw_list = [title]\n",
    "    for i in range(years):\n",
    "        # This is used to iterate over the years and only request the said timeframe.\n",
    "        endyear = startyear - i\n",
    "        startdate = str(endyear)+ \"-\" + s_month + \"-\" + s_day\n",
    "        enddate = str(endyear)+ \"-\" + e_month + \"-\" + e_day\n",
    "        tf = startdate + \" \" + enddate\n",
    "        \n",
    "        column_name = title +\" \" + str(endyear)\n",
    "        pytrends.build_payload(kw_list, cat=0, timeframe=tf, geo=\"DE\", gprop=\"\")\n",
    "        temp = pytrends.interest_over_time()\n",
    "        result = result.append(temp.iloc[:,0])\n",
    "    # The result was initially a Series, we transform it into a Dataframe\n",
    "    result = result.to_frame(name = title)\n",
    "    return result\n"
   ]
  },
  {
   "cell_type": "code",
   "execution_count": null,
   "metadata": {},
   "outputs": [],
   "source": [
    "title = \"Stirb Langsam\"\n",
    "year = 5\n",
    "s_month = \"10\"\n",
    "s_day = \"01\"\n",
    "e_month = \"12\"\n",
    "e_day = \"31\"\n",
    "\n",
    "new_df = request_for_timeframe(year,s_month,s_day,e_month,e_day,title)\n",
    "new_df"
   ]
  },
  {
   "cell_type": "markdown",
   "metadata": {},
   "source": [
    "Now we can compare the trend data for all 5 years"
   ]
  },
  {
   "cell_type": "code",
   "execution_count": null,
   "metadata": {},
   "outputs": [],
   "source": [
    "new_df.plot()"
   ]
  },
  {
   "cell_type": "code",
   "execution_count": null,
   "metadata": {},
   "outputs": [],
   "source": [
    "import matplotlib.pyplot as plt\n",
    "\n",
    "\n",
    "def plot_trend(new_df):\n",
    "    fig, axes = plt.subplots(1,5, figsize=(15,3), dpi=120,  sharey = True)\n",
    "    plt.style.use('bmh')\n",
    "    plt.tick_params(\n",
    "        axis='x',          # changes apply to the x-axis\n",
    "        which='both',      # both major and minor ticks are affected\n",
    "        bottom=False,      # ticks along the bottom edge are off\n",
    "        top=False,         # ticks along the top edge are off\n",
    "        labelbottom=False) # labels along the bottom edge are off\n",
    "\n",
    "    for i, ax in enumerate(axes.ravel()):\n",
    "        ax.plot(new_df.loc[new_df.index.year == 2015+i])\n",
    "        ax.set_title(str(2015+i))\n",
    "\n",
    "        ax.tick_params(\n",
    "        axis='x',          # changes apply to the x-axis\n",
    "        which='both',      # both major and minor ticks are affected\n",
    "        bottom=True,       # ticks along the bottom edge are on\n",
    "        top=False,         # ticks along the top edge are off\n",
    "        labelbottom=False) # labels along the bottom edge are off\n",
    "    try:\n",
    "        plt.suptitle(new_df.columns[0], verticalalignment='bottom', fontsize=16)\n",
    "    except:\n",
    "        plt.suptitle(new_df.name, verticalalignment='bottom', fontsize=16)\n",
    "    plt.tight_layout()\n",
    "    plt.show()\n"
   ]
  },
  {
   "cell_type": "code",
   "execution_count": null,
   "metadata": {},
   "outputs": [],
   "source": [
    "plot_trend(new_df)"
   ]
  },
  {
   "cell_type": "markdown",
   "metadata": {},
   "source": [
    "### Now comes the tricky part, we want to check these timeframes for for all the movies we can find. \n",
    "\n",
    "Here we need a little help. We need a set of movie titles that we can search for. Since all of our requests are actually 5 requests (one each year if we do 5 years) we can probably only do about 300 a day without getting restricted by the google trends api.\n",
    "\n",
    "Imdb has a \"Top Rated 250 Movies\" list that fits quite nice here, as these are among the most popular movies anyways.\n",
    "\n",
    "One option would be to use python to scrape these movies from Imdb, however these lists get used so often it is usually faster to just search for a csv file containing that information."
   ]
  },
  {
   "cell_type": "code",
   "execution_count": null,
   "metadata": {},
   "outputs": [],
   "source": [
    "#like so:\n",
    "\n",
    "imdb_df = pd.read_csv(\"Data/imdb_full_movies.csv\", header= 0, index_col = 0)\n",
    "imdb_df.head(15)"
   ]
  },
  {
   "cell_type": "markdown",
   "metadata": {},
   "source": [
    "Now for requesting all the information for these titles. This might take a while..."
   ]
  },
  {
   "cell_type": "code",
   "execution_count": null,
   "metadata": {},
   "outputs": [],
   "source": [
    "# our result\n",
    "result = pd.DataFrame()\n",
    "\n",
    "# create a list of all the movie\n",
    "movies = imdb_df[\"title\"].tolist()\n",
    "outputFile = \"data/my_workshop_output.csv\"\n",
    "\n",
    "# This helps avoid requesting movies we have aready requested if we run the script a second time.\n",
    "\n",
    "#result = pd.read_csv(outputFile, index_col = 0)\n",
    "#checklist = result.columns.tolist()"
   ]
  },
  {
   "cell_type": "code",
   "execution_count": null,
   "metadata": {},
   "outputs": [],
   "source": [
    "checklist[-1]"
   ]
  },
  {
   "cell_type": "code",
   "execution_count": null,
   "metadata": {},
   "outputs": [],
   "source": [
    "len(checklist)"
   ]
  },
  {
   "cell_type": "code",
   "execution_count": null,
   "metadata": {},
   "outputs": [],
   "source": [
    "(\"Der Pate\" not in checklist)"
   ]
  },
  {
   "cell_type": "code",
   "execution_count": null,
   "metadata": {},
   "outputs": [],
   "source": [
    "last_element = True\n",
    "workshop_counter = 10\n",
    "counter = 0\n",
    "\n",
    "for movie in movies:\n",
    "    if (counter == workshop_counter):\n",
    "        break\n",
    "    counter += 1\n",
    "    #if (movie == checklist[-1]):\n",
    "    #    last_element = True\n",
    "    if (last_element):   \n",
    "        # requesting the data for the current \"movie\"\n",
    "\n",
    "        try:\n",
    "            df = request_for_timeframe(year,s_month,s_day,e_month,e_day,movie)\n",
    "            result = pd.concat([result,df], axis=1,join=\"outer\")\n",
    "            result.to_csv(outputFile, index = True)\n",
    "        except:\n",
    "            print(\"Error requesting: \" + movie)\n",
    "            pass\n",
    "        # the most basic way to get feedback on how many titles we have so far\n",
    "        print(len(result.columns))"
   ]
  },
  {
   "cell_type": "code",
   "execution_count": null,
   "metadata": {},
   "outputs": [],
   "source": [
    "result = pd.read_csv(\"data/new_christmas_imdb - Backup.csv\", index_col = 0)"
   ]
  },
  {
   "cell_type": "code",
   "execution_count": null,
   "metadata": {},
   "outputs": [],
   "source": [
    "result.columns[:15]"
   ]
  },
  {
   "cell_type": "code",
   "execution_count": null,
   "metadata": {},
   "outputs": [],
   "source": [
    "corrected_df = result"
   ]
  },
  {
   "cell_type": "markdown",
   "metadata": {},
   "source": [
    "Getting the spikes."
   ]
  },
  {
   "cell_type": "code",
   "execution_count": null,
   "metadata": {},
   "outputs": [],
   "source": [
    "import datetime\n",
    "corrected_df.index = pd.to_datetime(corrected_df.index)"
   ]
  },
  {
   "cell_type": "code",
   "execution_count": null,
   "metadata": {},
   "outputs": [],
   "source": [
    "sum1 = corrected_df.loc[((corrected_df.index.month == 12) & ((corrected_df.index.day == 24) | (corrected_df.index.day == 25) | (corrected_df.index.day == 26)))].mean()\n",
    "sum2 = corrected_df.mean()\n",
    "\n",
    "#The highest difference between the average of the month and only the 13 indicate the biggest spike\n",
    "r = sum1-sum2\n",
    "\n",
    "r = r.sort_values(ascending = False)[:10]"
   ]
  },
  {
   "cell_type": "code",
   "execution_count": null,
   "metadata": {},
   "outputs": [],
   "source": [
    "r"
   ]
  },
  {
   "cell_type": "markdown",
   "metadata": {},
   "source": [
    "plotting the first"
   ]
  },
  {
   "cell_type": "code",
   "execution_count": null,
   "metadata": {},
   "outputs": [],
   "source": [
    "r.index[0]"
   ]
  },
  {
   "cell_type": "code",
   "execution_count": null,
   "metadata": {},
   "outputs": [],
   "source": [
    "for i in range(5):\n",
    "    name = r.index[i]\n",
    "    plot_trend(corrected_df[name])"
   ]
  }
 ],
 "metadata": {
  "kernelspec": {
   "display_name": "Python 3",
   "language": "python",
   "name": "python3"
  },
  "language_info": {
   "codemirror_mode": {
    "name": "ipython",
    "version": 3
   },
   "file_extension": ".py",
   "mimetype": "text/x-python",
   "name": "python",
   "nbconvert_exporter": "python",
   "pygments_lexer": "ipython3",
   "version": "3.7.1"
  }
 },
 "nbformat": 4,
 "nbformat_minor": 2
}
