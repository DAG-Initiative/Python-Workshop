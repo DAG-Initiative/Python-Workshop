{
 "cells": [
  {
   "cell_type": "markdown",
   "metadata": {},
   "source": [
    "# II. Matplotlib - always plot your data\n",
    "\n",
    "This notebook gives a short taste of matplotlib, pythons most popular libary for plotting. \n",
    "\n",
    "   4. Loading information into Pandas\n",
    "   5. Plotting with matplotlib\n",
    "       - a single plot \n",
    "       - Plotting multiple graphs\n",
    "   6. Why you should always plot your data\n"
   ]
  },
  {
   "cell_type": "markdown",
   "metadata": {},
   "source": [
    "## 4. Loading information"
   ]
  },
  {
   "cell_type": "code",
   "execution_count": null,
   "metadata": {},
   "outputs": [],
   "source": [
    "%matplotlib inline\n",
    "import pandas as pd\n",
    "import matplotlib.pyplot as plt"
   ]
  },
  {
   "cell_type": "markdown",
   "metadata": {},
   "source": [
    "reading the information"
   ]
  },
  {
   "cell_type": "code",
   "execution_count": null,
   "metadata": {},
   "outputs": [],
   "source": [
    "df = pd.read_csv(\"Data/DatasaurusDozen.tsv\", index_col = 0).sort_index()"
   ]
  },
  {
   "cell_type": "code",
   "execution_count": null,
   "metadata": {},
   "outputs": [],
   "source": [
    "df"
   ]
  },
  {
   "cell_type": "markdown",
   "metadata": {},
   "source": [
    "This does not seem right, the file we try to open is a .tsv file, therefore we need to indicate that the seperator used in the file is a Tab and not a \",\"."
   ]
  },
  {
   "cell_type": "code",
   "execution_count": null,
   "metadata": {},
   "outputs": [],
   "source": [
    "df = pd.read_csv(\"Data/DatasaurusDozen.tsv\", sep = \"\\t\", index_col = 0).sort_index()"
   ]
  },
  {
   "cell_type": "code",
   "execution_count": null,
   "metadata": {},
   "outputs": [],
   "source": [
    "df"
   ]
  },
  {
   "cell_type": "code",
   "execution_count": null,
   "metadata": {},
   "outputs": [],
   "source": [
    "df.info()"
   ]
  },
  {
   "cell_type": "code",
   "execution_count": null,
   "metadata": {},
   "outputs": [],
   "source": [
    "df"
   ]
  },
  {
   "cell_type": "code",
   "execution_count": null,
   "metadata": {},
   "outputs": [],
   "source": [
    "df.index.unique()"
   ]
  },
  {
   "cell_type": "markdown",
   "metadata": {},
   "source": [
    "The Dataframe.loc[...] command can be used to group rows or columns by a certain label/index."
   ]
  },
  {
   "cell_type": "code",
   "execution_count": null,
   "metadata": {},
   "outputs": [],
   "source": [
    "away_df = df.loc[\"away\"]\n",
    "print(away_df.info())\n",
    "print(away_df)"
   ]
  },
  {
   "cell_type": "markdown",
   "metadata": {},
   "source": [
    "## 5. Plotting "
   ]
  },
  {
   "cell_type": "markdown",
   "metadata": {},
   "source": [
    "Using pandas build in functions we can very simply get a first look at how our data looks."
   ]
  },
  {
   "cell_type": "code",
   "execution_count": null,
   "metadata": {},
   "outputs": [],
   "source": [
    "away_df.plot()"
   ]
  },
  {
   "cell_type": "markdown",
   "metadata": {},
   "source": [
    "Looking at the plot (or da data) we can quickly see that a default lineplot might not be suited for this kind of data. Lets try a differend kind of plot.\n",
    "\n",
    "Available typs of plots\n",
    "- ‘line’ : line plot (default)\n",
    "- ‘bar’ : vertical bar plot\n",
    "- ‘barh’ : horizontal bar plot\n",
    "- ‘hist’ : histogram\n",
    "- ‘box’ : boxplot\n",
    "- ‘kde’ : Kernel Density Estimation plot\n",
    "- ‘density’ : same as ‘kde’\n",
    "- ‘area’ : area plot\n",
    "- ‘pie’ : pie plot\n",
    "- ‘scatter’ : scatter plot\n",
    "- ‘hexbin’ : hexbin plot"
   ]
  },
  {
   "cell_type": "code",
   "execution_count": null,
   "metadata": {},
   "outputs": [],
   "source": [
    "# x and y denote the different axis.\n",
    "away_df.plot(\"x\",\"y\",kind=\"scatter\")"
   ]
  },
  {
   "cell_type": "markdown",
   "metadata": {},
   "source": [
    "## 5.1 Plotting using matplotlib directly"
   ]
  },
  {
   "cell_type": "markdown",
   "metadata": {},
   "source": [
    "The pandas libary also uses matplotlib for plotting (That is why we use \"%matplotlib inline\" so it can properly display the plots). However it is often times easier to use the matplotlib directly, especially when plots become more complex."
   ]
  },
  {
   "cell_type": "code",
   "execution_count": null,
   "metadata": {},
   "outputs": [],
   "source": [
    "import matplotlib.pyplot as plt\n",
    "import matplotlib as mpl"
   ]
  },
  {
   "cell_type": "markdown",
   "metadata": {},
   "source": [
    "printing the same graph from above"
   ]
  },
  {
   "cell_type": "code",
   "execution_count": null,
   "metadata": {},
   "outputs": [],
   "source": [
    "plt.scatter(away_df[\"x\"],away_df[\"y\"])\n",
    "plt.show()"
   ]
  },
  {
   "cell_type": "markdown",
   "metadata": {},
   "source": [
    "However there is a bunch of different settings we can use to make it look a little better."
   ]
  },
  {
   "cell_type": "code",
   "execution_count": null,
   "metadata": {},
   "outputs": [],
   "source": [
    "plt.figure(figsize = (10,7), dpi = 100) # 10 is width, 7 is height\n",
    "plt.style.use('bmh')\n",
    "plt.scatter(away_df[\"x\"],away_df[\"y\"],marker = \"*\", label=\"Data\")\n",
    "plt.title(\"Away\")\n",
    "plt.xlabel(\"X\")\n",
    "plt.ylabel(\"Y\")\n",
    "plt.legend(loc=\"best\")\n",
    "plt.show()\n"
   ]
  },
  {
   "cell_type": "markdown",
   "metadata": {},
   "source": [
    "You can look up all the different markers here: \n",
    "https://matplotlib.org/api/markers_api.html\n",
    "\n",
    "And all the different styles here:\n",
    "https://matplotlib.org/tutorials/introductory/customizing.html"
   ]
  },
  {
   "cell_type": "markdown",
   "metadata": {},
   "source": [
    "## 5.2 Plotting multiple graphs\n"
   ]
  },
  {
   "cell_type": "markdown",
   "metadata": {},
   "source": [
    "first we grab a second dataset to plot from our initial file."
   ]
  },
  {
   "cell_type": "code",
   "execution_count": null,
   "metadata": {},
   "outputs": [],
   "source": [
    "circle_df = df.loc[\"circle\"]\n",
    "circle_df.plot(\"x\",\"y\",kind=\"scatter\")"
   ]
  },
  {
   "cell_type": "markdown",
   "metadata": {},
   "source": [
    "first, lets just plot both datasets into the same graph. We can copy basicly all the settings from above and just add a line plotting our second dataset.\n",
    "\n",
    "We can also add some color to differentiate the data."
   ]
  },
  {
   "cell_type": "code",
   "execution_count": null,
   "metadata": {},
   "outputs": [],
   "source": [
    "plt.figure(figsize = (10,7), dpi = 100) # 10 is width, 7 is height\n",
    "plt.style.use('bmh')\n",
    "plt.scatter(away_df[\"x\"],away_df[\"y\"],marker = \"*\", label=\"away\", color = \"r\")\n",
    "# This is the second dataset\n",
    "plt.scatter(circle_df[\"x\"], circle_df[\"y\"], marker = \".\", label=\"circle\", color =\"b\")\n",
    "\n",
    "plt.title(\"double the plot\")\n",
    "plt.xlabel(\"X\")\n",
    "plt.ylabel(\"Y\")\n",
    "plt.legend(loc=\"best\")\n",
    "plt.show()"
   ]
  },
  {
   "cell_type": "markdown",
   "metadata": {},
   "source": [
    "Sometimes it is more usefull to have the plots side by side. For this we have to create subplots. The \"figure\" we are plotting on is the canvas the plots get drawn on. However if we want to have more then one graph, we can divide the space of the figure into multiple \"axes\". Then we can adress the settings and information for each axes directly."
   ]
  },
  {
   "cell_type": "code",
   "execution_count": null,
   "metadata": {},
   "outputs": [],
   "source": [
    "# Create Figure\n",
    "plt.style.use(\"seaborn-whitegrid\")\n",
    "fig = plt.figure(figsize = (10,5), dpi = 120)\n",
    "\n",
    "# Setup the layout by creating two axes. \n",
    "# Axes get assigned a set postion in the figure\n",
    "\n",
    "ax1 = plt.subplot2grid((1,2),(0,0)) # The first (1,2) = 1 row and 2 columns of graphs\n",
    "ax2 = plt.subplot2grid((1,2),(0,1)) # The second (0,1) is the postion of the axes\n",
    "\n",
    "# Scatterplot for \"away\"\n",
    "ax1.scatter(away_df[\"x\"],away_df[\"y\"],color = \"r\")\n",
    "ax1.set_title(\"away\")\n",
    "ax1.set_xlim(0,100)\n",
    "ax1.set_ylim(0,100)\n",
    "\n",
    "# Scatterplot for \"circle\"\n",
    "ax2.scatter(circle_df[\"x\"], circle_df[\"y\"], color =\"b\")\n",
    "ax2.set_title(\"circle\")\n",
    "ax2.set_xlim(0,100)\n",
    "ax2.set_ylim(0,100)\n",
    "\n",
    "plt.show()"
   ]
  },
  {
   "cell_type": "markdown",
   "metadata": {},
   "source": [
    "## 6. Why you should always plot your data"
   ]
  },
  {
   "cell_type": "markdown",
   "metadata": {},
   "source": [
    "In pandas it is easy to get summary statistics about the data. However is important to always inspect the data presented because these statistics can be missleading. "
   ]
  },
  {
   "cell_type": "code",
   "execution_count": null,
   "metadata": {},
   "outputs": [],
   "source": [
    "from IPython.display import display_html\n",
    "#\n",
    "# This function calculates the summary statistics for the given set of points\n",
    "# \n",
    "def get_values(df):\n",
    "    res = pd.DataFrame([[df.x.mean()],[ df.y.mean()], [df.x.std()],[df.y.std()], [df.corr().x.y]],\n",
    "                       index=[\"X mean\", \"Y mean\", \"X standard d.\", \"Y standard d.\", \"Correlation\"],\n",
    "                       columns=[df.index[1]])\n",
    "    return res\n",
    "\n",
    "# This function allows to display Dataframes side by side\n",
    "def display_side_by_side(l):\n",
    "    html_str=''\n",
    "    for df in l:\n",
    "        html_str+=df.to_html()\n",
    "    display_html(html_str.replace('table','table style=\"display:inline\"'),raw=True)           \n",
    "\n",
    "    \n"
   ]
  },
  {
   "cell_type": "markdown",
   "metadata": {},
   "source": [
    "Looking at the data we just worked with we can display the summary statistics of the dataset."
   ]
  },
  {
   "cell_type": "code",
   "execution_count": null,
   "metadata": {},
   "outputs": [],
   "source": [
    "display_side_by_side([get_values(away_df), get_values(circle_df)])"
   ]
  },
  {
   "cell_type": "markdown",
   "metadata": {},
   "source": [
    "Looking at just these it would be hard to guess that the plots look that fundamentaly different as the graphs plotted above.\n",
    "But there is more!\n",
    "\n",
    "Printing all the summary statistics of all the data in the dataset it becomes clear that they differ only marginaly."
   ]
  },
  {
   "cell_type": "code",
   "execution_count": null,
   "metadata": {},
   "outputs": [],
   "source": [
    "df_list = []\n",
    "\n",
    "#This creates a list with all the summary statistics of the initial dataset\n",
    "for data in df.index.unique():\n",
    "    temp = get_values(df.loc[data])\n",
    "    df_list.append(temp)\n",
    "    \n",
    "display_side_by_side(df_list)"
   ]
  },
  {
   "cell_type": "markdown",
   "metadata": {},
   "source": [
    "### So this is why you should always take the time to look at the data that is presented to you!"
   ]
  },
  {
   "cell_type": "code",
   "execution_count": null,
   "metadata": {},
   "outputs": [],
   "source": [
    "fig, axes = plt.subplots(5,3, figsize= (9, 15), sharex = True, sharey = True, dpi = 300)\n",
    "\n",
    "for i, ax in enumerate(axes.ravel()):\n",
    "    if (i < 13):\n",
    "        ax.scatter(df.loc[df.index.unique()[i]]['x'],df.loc[df.index.unique()[i]]['y'])\n",
    "        ax.set_title(df.index.unique()[i])\n",
    "plt.suptitle(\"Always plot your data!\", verticalalignment = \"top\", fontsize = 16)\n",
    "plt.show()"
   ]
  },
  {
   "cell_type": "markdown",
   "metadata": {},
   "source": [
    "This amazing dataset was created by Justin Matejka and George Fitzmaurice.\n",
    "Find their work on this here: https://www.autodeskresearch.com/publications/samestats"
   ]
  }
 ],
 "metadata": {
  "kernelspec": {
   "display_name": "Python 3",
   "language": "python",
   "name": "python3"
  },
  "language_info": {
   "codemirror_mode": {
    "name": "ipython",
    "version": 3
   },
   "file_extension": ".py",
   "mimetype": "text/x-python",
   "name": "python",
   "nbconvert_exporter": "python",
   "pygments_lexer": "ipython3",
   "version": "3.7.1"
  }
 },
 "nbformat": 4,
 "nbformat_minor": 2
}
